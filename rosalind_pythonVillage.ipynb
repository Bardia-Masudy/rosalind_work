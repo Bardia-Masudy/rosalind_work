{
 "cells": [
  {
   "cell_type": "code",
   "execution_count": 1,
   "metadata": {},
   "outputs": [
    {
     "name": "stdout",
     "output_type": "stream",
     "text": [
      "The Zen of Python, by Tim Peters\n",
      "\n",
      "Beautiful is better than ugly.\n",
      "Explicit is better than implicit.\n",
      "Simple is better than complex.\n",
      "Complex is better than complicated.\n",
      "Flat is better than nested.\n",
      "Sparse is better than dense.\n",
      "Readability counts.\n",
      "Special cases aren't special enough to break the rules.\n",
      "Although practicality beats purity.\n",
      "Errors should never pass silently.\n",
      "Unless explicitly silenced.\n",
      "In the face of ambiguity, refuse the temptation to guess.\n",
      "There should be one-- and preferably only one --obvious way to do it.\n",
      "Although that way may not be obvious at first unless you're Dutch.\n",
      "Now is better than never.\n",
      "Although never is often better than *right* now.\n",
      "If the implementation is hard to explain, it's a bad idea.\n",
      "If the implementation is easy to explain, it may be a good idea.\n",
      "Namespaces are one honking great idea -- let's do more of those!\n"
     ]
    }
   ],
   "source": [
    "## Question 1:\n",
    "import this"
   ]
  },
  {
   "cell_type": "code",
   "execution_count": 3,
   "metadata": {},
   "outputs": [
    {
     "name": "stdout",
     "output_type": "stream",
     "text": [
      "1808201\n"
     ]
    }
   ],
   "source": [
    "## Question 2: Variables and Some Arithmetic\n",
    "a, b = 925, 976 ## Some random positive integers each less than 1000\n",
    "c = pow(a, 2)+pow(b,2)\n",
    "print(c)"
   ]
  },
  {
   "cell_type": "code",
   "execution_count": 9,
   "metadata": {},
   "outputs": [
    {
     "name": "stdout",
     "output_type": "stream",
     "text": [
      "Capra\n",
      "bifasciatus\n",
      "b\n",
      "s\n"
     ]
    }
   ],
   "source": [
    "## Question 3: Strings and Lists\n",
    "s = 'NKo8Qw7xeCUyJ636BaTPI7Qcy4xuit8rVjxTJDtd1uHuQOT51OeHkpNpCtCapraW5OmpyWCZvISCQsx39vOy9Qe6GfQdfAKhx4WF95NskbXSt9RLaU3DXBJKnzVcC1hhWTLuC9f7bcXouWA87zdXu3Vl7Ybifasciatus9AMg.' #string of <= 200 characters and four integers a, b, c, and d.\n",
    "a, b, c, d = 58, 62, 154, 164\n",
    "\n",
    "print(s[a:b+1])\n",
    "print(s[c:d+1])\n",
    "print(s[c])\n",
    "print(s[d])"
   ]
  },
  {
   "cell_type": "code",
   "execution_count": 17,
   "metadata": {},
   "outputs": [
    {
     "name": "stdout",
     "output_type": "stream",
     "text": [
      "13040223\n"
     ]
    }
   ],
   "source": [
    "## Question 4: Conditions and Loops\n",
    "a, b = 4258, 8384 # Two positive integers under 10000\n",
    "list = []\n",
    "for number in range(b-a):\n",
    "    if (number+a) % 2 != 0:\n",
    "        list.append(number+a)\n",
    "\n",
    "# print(list)\n",
    "print(sum(list))\n"
   ]
  },
  {
   "cell_type": "code",
   "execution_count": 21,
   "metadata": {},
   "outputs": [],
   "source": [
    "## Question 5a: Working with Files\n",
    "file = open('/home/bardia/Downloads/rosalind_ini5.txt', 'r')\n",
    "index = 0\n",
    "lines = []\n",
    "for line in file:\n",
    "    if index % 2 == 1: lines.append(line)\n",
    "    index += 1\n",
    "\n",
    "output = open('/home/bardia/Downloads/rosalind_ini5_output.txt', 'w')\n",
    "\n",
    "for line in lines:\n",
    "    output.write(line)\n",
    "\n",
    "output.close()\n",
    "file.close()"
   ]
  },
  {
   "cell_type": "code",
   "execution_count": 32,
   "metadata": {},
   "outputs": [
    {
     "name": "stdout",
     "output_type": "stream",
     "text": [
      "{'When': 1, 'I': 2, 'find': 1, 'myself': 1, 'in': 4, 'times': 1, 'of': 11, 'trouble': 1, 'Mother': 2, 'Mary': 2, 'comes': 2, 'to': 3, 'me': 4, 'Speaking': 3, 'words': 7, 'wisdom': 7, 'let': 30, 'it': 36, 'be': 41, 'And': 3, 'my': 1, 'hour': 1, 'darkness': 1, 'she': 1, 'is': 4, 'standing': 1, 'right': 1, 'front': 1, 'Let': 6, 'Whisper': 4, 'when': 2, 'the': 4, 'broken': 1, 'hearted': 1, 'people': 1, 'living': 1, 'world': 1, 'agree': 1, 'There': 4, 'will': 5, 'an': 4, 'answer': 4, 'For': 1, 'though': 1, 'they': 2, 'may': 1, 'parted': 1, 'there': 2, 'still': 2, 'a': 2, 'chance': 1, 'that': 2, 'see': 1, 'night': 1, 'cloudy': 1, 'light': 1, 'shines': 1, 'on': 1, 'Shine': 1, 'until': 1, 'tomorrow': 1, 'wake': 1, 'up': 1, 'sound': 1, 'music': 1, 'yeah': 2}\n"
     ]
    }
   ],
   "source": [
    "## Question 6: Dictionaries\n",
    "file = open('/home/bardia/Downloads/rosalind_ini6.txt', 'r') # string of length s <= 10000\n",
    "# return number of occurences of each word seperated by spaces, in s. (Case-sensitive, output can be in any order.)\n",
    "wordDict = {}\n",
    "\n",
    "s = file.read().split()\n",
    "for word in s:\n",
    "    if word in wordDict: wordDict.update({word: wordDict[word]+1})\n",
    "    else: wordDict.update({word: 1})\n",
    "\n",
    "print(wordDict)\n",
    "\n",
    "output = open('/home/bardia/Downloads/rosalind_ini6_output.txt', 'w')\n",
    "for key, value in wordDict.items():\n",
    "    output.write(f'{key} {value}\\n')\n",
    "\n",
    "output.close()\n",
    "file.close()"
   ]
  }
 ],
 "metadata": {
  "kernelspec": {
   "display_name": "Python 3",
   "language": "python",
   "name": "python3"
  },
  "language_info": {
   "codemirror_mode": {
    "name": "ipython",
    "version": 3
   },
   "file_extension": ".py",
   "mimetype": "text/x-python",
   "name": "python",
   "nbconvert_exporter": "python",
   "pygments_lexer": "ipython3",
   "version": "3.10.6"
  },
  "orig_nbformat": 4,
  "vscode": {
   "interpreter": {
    "hash": "916dbcbb3f70747c44a77c7bcd40155683ae19c65e1c03b4aa3499c5328201f1"
   }
  }
 },
 "nbformat": 4,
 "nbformat_minor": 2
}
