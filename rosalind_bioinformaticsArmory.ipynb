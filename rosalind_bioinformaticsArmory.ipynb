{
 "cells": [
  {
   "cell_type": "code",
   "execution_count": 7,
   "metadata": {},
   "outputs": [
    {
     "name": "stdout",
     "output_type": "stream",
     "text": [
      "[230, 250, 249, 262]\n"
     ]
    }
   ],
   "source": [
    "# INI - Introduction to the Bioinformatics Armory\n",
    "from Bio.Seq import Seq\n",
    "sample_seq = Seq(\"TGAATGGTACAGTCGTGCTTCAGTTAAATGGGAGCCCAGGGTGATCCGAAGGTTTTTTTTAACGTATGCTAGTGGGGGGACGTAGCCAAGATGTTTTTATCGCCTTCATCTTGGCTCACTTAACTGTGTGTCGTCTGGAGATTTCTATTAGTTCATTGACCGCCCCAGTAACCACGAGGCGGGTCCGGTGAGCTCTTCTTAACTGGGACTCCCAAGCCTTGTTGGTGGTCAGGGCAGCGAGGATGGATGCCTCCTTTGTTCTTACGTACGACGGCGCCCGATGGGTTCTACTTCGCAAGAATCGAGGTCGAGTCGCTGTTACCTTACTCAGGTCCGTTACCTTCGAAAGGCAGTCCATTTTACGACAGAACGCACCAGCGGTTCTTCCTGATAATATCTAAATATACATCAATGCATACTAATTTTAAAGCGGCATTTATGTCTGCCCACTTACAAGCAGCTTTACATCTGCCTTTAAAGTCGATGTCTCGGCTTGTAATGCTTTCTACAAGTAACGAATTGACTTGACAGACTCCTTGCCCAAGTAAACGGACAAGTTGCACATCCGCGGCTAGGAACGGTAGGAGGGACACCAGTTAGCACTCAAGATTCGCCAATAAAGGGCCGCAAGAACCTACATTGGCGGGGATTTGATTGGTGTTCTTTGTGCCTGCGTGATGGTGTATCTAGTTACCGCGACGACGACATCCATTACATCATGAGACTTGCTAGACCCGCCGCACCTGGAACTACCGAGTGAGCTGAAGAGGTTCACACTTCCCCCTGGAGAGAGGTGTAGAGGGATCCCCGTAAGGTTGTTACGCCAGCGATCCATTCTAAATCGGTTCCGCATGTGCCCACCAGTACGGCCTAGCCTCATCCGCCGGGCAGAAAAGACTCCGGAAGGTGAAGTGATATCAACATCAAATATTCCGGACCTACACTGACCCCCCCTTGGTTTTGGCTTGTCCCCGTGTCGTTAGCGTACCGG\")\n",
    "print([sample_seq.count(n) for n in [\"A\", \"C\", \"G\", \"T\"]])"
   ]
  },
  {
   "cell_type": "code",
   "execution_count": 22,
   "metadata": {},
   "outputs": [
    {
     "name": "stdout",
     "output_type": "stream",
     "text": [
      "148\n"
     ]
    }
   ],
   "source": [
    "# GBK - GenBank Introduction\n",
    "from Bio import Entrez\n",
    "Entrez.email = \"bmasudy74@gmail.com\"\n",
    "handle = Entrez.esearch(db=\"nucleotide\", term=r'''(Tancoa[Organism]) AND (\"2005/08/11\"[Publication Date] : \"2012/10/02\"[Publication Date])''')\n",
    "record = Entrez.read(handle)\n",
    "print(record['Count'])"
   ]
  }
 ],
 "metadata": {
  "kernelspec": {
   "display_name": "Python 3",
   "language": "python",
   "name": "python3"
  },
  "language_info": {
   "codemirror_mode": {
    "name": "ipython",
    "version": 3
   },
   "file_extension": ".py",
   "mimetype": "text/x-python",
   "name": "python",
   "nbconvert_exporter": "python",
   "pygments_lexer": "ipython3",
   "version": "3.11.1"
  },
  "orig_nbformat": 4,
  "vscode": {
   "interpreter": {
    "hash": "01ac9e3e4679e50b2a3e671f8d3c35a3e356ae374b04587f23a77d547d7ba88b"
   }
  }
 },
 "nbformat": 4,
 "nbformat_minor": 2
}
