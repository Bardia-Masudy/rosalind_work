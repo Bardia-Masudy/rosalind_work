{
 "cells": [
  {
   "cell_type": "code",
   "execution_count": 7,
   "metadata": {},
   "outputs": [
    {
     "name": "stdout",
     "output_type": "stream",
     "text": [
      "[230, 250, 249, 262]\n"
     ]
    }
   ],
   "source": [
    "# INI - Introduction to the Bioinformatics Armory\n",
    "from Bio.Seq import Seq\n",
    "sample_seq = Seq(\"TGAATGGTACAGTCGTGCTTCAGTTAAATGGGAGCCCAGGGTGATCCGAAGGTTTTTTTTAACGTATGCTAGTGGGGGGACGTAGCCAAGATGTTTTTATCGCCTTCATCTTGGCTCACTTAACTGTGTGTCGTCTGGAGATTTCTATTAGTTCATTGACCGCCCCAGTAACCACGAGGCGGGTCCGGTGAGCTCTTCTTAACTGGGACTCCCAAGCCTTGTTGGTGGTCAGGGCAGCGAGGATGGATGCCTCCTTTGTTCTTACGTACGACGGCGCCCGATGGGTTCTACTTCGCAAGAATCGAGGTCGAGTCGCTGTTACCTTACTCAGGTCCGTTACCTTCGAAAGGCAGTCCATTTTACGACAGAACGCACCAGCGGTTCTTCCTGATAATATCTAAATATACATCAATGCATACTAATTTTAAAGCGGCATTTATGTCTGCCCACTTACAAGCAGCTTTACATCTGCCTTTAAAGTCGATGTCTCGGCTTGTAATGCTTTCTACAAGTAACGAATTGACTTGACAGACTCCTTGCCCAAGTAAACGGACAAGTTGCACATCCGCGGCTAGGAACGGTAGGAGGGACACCAGTTAGCACTCAAGATTCGCCAATAAAGGGCCGCAAGAACCTACATTGGCGGGGATTTGATTGGTGTTCTTTGTGCCTGCGTGATGGTGTATCTAGTTACCGCGACGACGACATCCATTACATCATGAGACTTGCTAGACCCGCCGCACCTGGAACTACCGAGTGAGCTGAAGAGGTTCACACTTCCCCCTGGAGAGAGGTGTAGAGGGATCCCCGTAAGGTTGTTACGCCAGCGATCCATTCTAAATCGGTTCCGCATGTGCCCACCAGTACGGCCTAGCCTCATCCGCCGGGCAGAAAAGACTCCGGAAGGTGAAGTGATATCAACATCAAATATTCCGGACCTACACTGACCCCCCCTTGGTTTTGGCTTGTCCCCGTGTCGTTAGCGTACCGG\")\n",
    "print([sample_seq.count(n) for n in [\"A\", \"C\", \"G\", \"T\"]])"
   ]
  },
  {
   "cell_type": "code",
   "execution_count": 30,
   "metadata": {},
   "outputs": [
    {
     "name": "stdout",
     "output_type": "stream",
     "text": [
      "['Pleurozium', '2007/07/15', '2012/03/07']\n",
      "62\n"
     ]
    }
   ],
   "source": [
    "# GBK - GenBank Introduction\n",
    "with open(r'C:\\Users\\Bardia\\Downloads\\rosalind_gbk.txt','r') as file:\n",
    "    from Bio import Entrez\n",
    "    Entrez.email = \"email@email.com\"\n",
    "    lines = [i.rstrip() for i in file.readlines()]\n",
    "    print(lines)\n",
    "    handle = Entrez.esearch(db=\"nucleotide\", term=rf'''({lines[0]}) AND (\"{lines[1]}\"[Publication Date] : \"{lines[2]}\"[Publication Date])''')\n",
    "    record = Entrez.read(handle)\n",
    "    print(record['Count'])"
   ]
  },
  {
   "cell_type": "code",
   "execution_count": 11,
   "metadata": {},
   "outputs": [
    {
     "name": "stdout",
     "output_type": "stream",
     "text": [
      "771\n"
     ]
    }
   ],
   "source": [
    "# FRMT - Data Formats\n",
    "\n",
    "from Bio import Entrez, SeqIO\n",
    "\n",
    "genbankIDs = \"FJ817486 JX069768 JX469983\".split()\n",
    "\n",
    "Entrez.email = \"email@email.com\"\n",
    "handle = Entrez.efetch(db=\"nucleotide\", id = genbankIDs, rettype=\"fasta\")\n",
    "records = list(SeqIO.parse(handle, \"fasta\"))\n",
    "\n",
    "\n",
    "minSeq = False\n",
    "for n in records:\n",
    "    if not minSeq:\n",
    "        minSeq = n\n",
    "    elif len(n.seq) < len(minSeq.seq):\n",
    "        minSeq = n\n",
    "\n",
    "with open(\"FRMTfasta.fasta\", \"w\") as output_file:\n",
    "    SeqIO.write(minSeq, output_file, \"fasta\")\n",
    "\n",
    "\n",
    "# fastafile = SeqIO.write()\n"
   ]
  }
 ],
 "metadata": {
  "kernelspec": {
   "display_name": "Python 3",
   "language": "python",
   "name": "python3"
  },
  "language_info": {
   "codemirror_mode": {
    "name": "ipython",
    "version": 3
   },
   "file_extension": ".py",
   "mimetype": "text/x-python",
   "name": "python",
   "nbconvert_exporter": "python",
   "pygments_lexer": "ipython3",
   "version": "3.11.1"
  },
  "orig_nbformat": 4,
  "vscode": {
   "interpreter": {
    "hash": "01ac9e3e4679e50b2a3e671f8d3c35a3e356ae374b04587f23a77d547d7ba88b"
   }
  }
 },
 "nbformat": 4,
 "nbformat_minor": 2
}
