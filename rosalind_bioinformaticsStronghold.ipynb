{
 "cells": [
  {
   "cell_type": "code",
   "execution_count": 42,
   "metadata": {},
   "outputs": [],
   "source": [
    "## Question 1: Counting DNA Nucleotides:\n",
    "file = open('/home/bardia/Downloads/rosalind_dna.txt', 'r')\n",
    "seq = file.read()\n",
    "seqDict = {'A': 0, 'C': 0, 'G': 0, 'T': 0}\n",
    "outputStr = ''\n",
    "output = open('/home/bardia/Downloads/rosalind_dna_output.txt', 'w')\n",
    "for char in seq: \n",
    "    if char in seqDict: seqDict[char] = seqDict[char]+1\n",
    "\n",
    "output.write(f'''{seqDict['A']} {seqDict['C']} {seqDict['G']} {seqDict['T']}''')\n",
    "\n",
    "output.close()\n",
    "file.close()\n",
    "#print(str(*[value for key, value in seqDict.items()]))"
   ]
  },
  {
   "cell_type": "code",
   "execution_count": 51,
   "metadata": {},
   "outputs": [],
   "source": [
    "## Question 2: Transcribing DNA into RNA\n",
    "file = open('/home/bardia/Downloads/rosalind_rna.txt', 'r')\n",
    "rna = list(file.read())\n",
    "output = open('/home/bardia/Downloads/rosalind_rna_output.txt', 'w')\n",
    "for i in range(len(rna)):\n",
    "    if rna[i] == 'T': rna[i] = 'U'\n",
    "\n",
    "output.write(''.join(rna))\n",
    "file.close()\n",
    "output.close()"
   ]
  },
  {
   "cell_type": "code",
   "execution_count": 16,
   "metadata": {},
   "outputs": [
    {
     "name": "stdout",
     "output_type": "stream",
     "text": [
      "TCCGTCCAAAAAAGAGCCACACCCCTGCATCGGACAATGCGTACTGCTAAATTGTGATAAGTCGGTATCTCCAAGCAACTGGTCTATAGGTTTTGCCACTGCCTCCATCAGCGACCGTGTTCAGGTCAATATGAATAGTCTGTTGGCTATTGTCCCCCTAGCCGGATCACGATTGCTTTTACGATGAGTGGGAATCCTAACACTTTCAGCCGTTCTTACGCCATGCGCGAAGGGATTCACGTGTGAAGGACTCTGCCGCAGAGTTAGACTCCCAATTGATGTAAGTCCTAACCCGCTTAACCAAAGAGGTTGACCTGAGAAGGAAACTACGAAATGTGTCGGTCTAAAACGTAATCTCGGCCAAAGACTGTTTCTCCTTTGGCACCTTAGATGGATCATCTCGGTAGGCGGCACGCAGCATAGTCACATTCTATTGGGCAACAGAGACTCTAAGGGAGGTCAACTGAATTCGATGTACCGTCGCAAGCCAGCCTTTAGTCTCAGCGACAACTAGGCTCTTACGATAGGCCAAATGTTCCCAGGCAGCTCTACAGAACCATTGTGTGCAAGGCGGGCTTAGCCGAAGTTGACGCAGCAATATCAGACACAAGACGATTATCTCTCTGGTTAGTTGCCTTGGTCCAGATCGCGAGTCCCCAGGTTGGTATGCCTTGCGGGAGAGTTATTCCCATATGCGTCGCGTCGCGAGTCCTTTGACGGATCATAACCCAGAGTTAGGGGCCATCGGGCAATTCTAGACCTAGCACAAAGTAAGTAGATAGGTTAAAAGTGGAGGATTTCCCCGGTATTCGCGCATGGTTATGATGCTGCCCGCCTTCGCTTTATTATTTATGCCTAGC\n"
     ]
    }
   ],
   "source": [
    "## Question 3: Complementing a Strand of DNA\n",
    "file = open(\"/home/bardia/Downloads/rosalind_revc.txt\", 'r')\n",
    "seq = file.readline()\n",
    "seqDict = {'A':'T', 'T':'A', 'C':'G', 'G':'C'}\n",
    "revSeq = ''\n",
    "output = open('/home/bardia/Downloads/rosalind_revc_output.txt', 'w')\n",
    "for char in seq:\n",
    "    if char in 'ATGC':\n",
    "        revSeq = seqDict[char] + revSeq\n",
    "print(revSeq)\n",
    "output.write(str(revSeq))\n",
    "\n",
    "file.close()"
   ]
  },
  {
   "cell_type": "code",
   "execution_count": 14,
   "metadata": {},
   "outputs": [],
   "source": [
    "## Question 4: Rabbits and Recurrence Relations\n",
    "file = open('/home/bardia/Downloads/rosalind_fib.txt', 'r')\n",
    "output = open('/home/bardia/Downloads/rosalind_fib_output.txt', 'w')\n",
    "text = file.readline()\n",
    "n, k = text.split()\n",
    "pairs = [1, 1]\n",
    "\n",
    "for i in range(2, int(n)):\n",
    "    pairs.append(pairs[i-1] + pairs[i-2] * int(k))\n",
    "\n",
    "output.write(str(pairs[int(n)-1]))\n",
    "\n",
    "\n",
    "file.close()\n",
    "output.close()"
   ]
  },
  {
   "cell_type": "code",
   "execution_count": 104,
   "metadata": {},
   "outputs": [
    {
     "name": "stdout",
     "output_type": "stream",
     "text": [
      "['Rosalind_9898', 'AATTCTACACGCCCTACCTTCGTCTAGTTGTTTCCCCATCAAATGCACAGATTAAAGTTTACGAGAGTGGATGAGTGGCCAAAAATATTGCGGGATCCCGGTAGCATGATACATCCCTATCCGCGACTCATTATCTTGTCCATCAGTAATAACCTCGTTTCGCGGGAGCTTTTCGCTTTTAGCCAAGCGCAACTGTTTAGCCGAGTCGTGCGAAATTTTAATGCTAAGAGCCTTACCGCGCGTTACTACCCTGATATGAGATCCTCATAACTTGATACTGGCTGAAGGAGACCACTTGCTGTGACTGCCACGATCTTTACGGGTACTCAGGGTGGCTTCCCACTTCCGAGCATGGGGCGAGCCCTGCGACTAGCGCTGGACCAAAATGGCCTAGCCTCTGACTGACAGTGACCAATGGTCACCCATTCGTCTAGCCTTACCACCAGCGATGTCGTCTCATGATATCCTCCAATGGGCTTGCGTCAGGGTGCGTGCACACACGCGCATTCTATCCATACTTTCTCCACGATTGCTTCGGGGACCACTATACGGTACCCACTAGTTAGGTAAGAGCAGTAGGTCCAATAACACTAGAACTTGACAGATGTGCACCGACCTGCGTACAGAACACAGTTTCATCAGTAACTACGGATTGACCATGCCACAATCGGTCGTGCCACTACCGTCGCCTGCCTAAGCCGCTTTATTGAGGCATAAACCGTAATTGCTCGGGATCGAGCGTATGCCCAGAATTGACATTTTGGAGCCTAAGCAGATGCCAGCTATTCCACATAAACGACAGATCGACGAGCACAACTGAGTTGCGCCCCAGGTTAGGATACTTAGCATCGCTGTTACGAGGCCACAACTATTATCTGGACCATCTCGGAAACCGTCGCTAACAAACAGAATTGATCTTAATCATATTTTTGATGGTTGTGTTCGGTCAACATTTGATGTTCCAGCCTCAATTGCATT']\n",
      "['Rosalind_3008', 'CATAAGATCCCTGCTGTTATACCGGCTAATGGCTAATCGTGTCCTCCTCATAGAGTATGGCGCTGAGTTTTCGATCTTGGTTAGGCATGTGCCGACACCCCGATACATCGACGTCCCTGTTAAGCGACGAACTCTACGACATCCGGGCACAACGAATCCGATCGATCTAACCAATCTGGCCCATTGGCTTGGCTCAATATCTATTGCAGTAAATGTCGATGTACAGGAATTTGTCAAGCTGGCCAGTAGTGCTCCTGTTGCACGCGTGAAAGTTTTCACGTAAGCAGTTCCCCACGCCTTCTAGCGGAACGTCTAGAGCGGTTTACAGGGGATGCTAACTGATACAGCATTTTACACTAGGGCTACTGCCACGTCTTTACAACCAGGCCCAGGATACGCACATCTCACCGATCTTGGGTGGAGTGGTGGAGTGACTGGAGACCAGCTGCCAATCTATTAAGGTCACTAGGACGGAGCACGACAGATTCTTTAATACCAAATCCTACGCGCGTGCCCGGGAATGACCGCTTTCAGGAGTCTCGTGGTGTGCTCGTTTTAAAATATCTTAGGTGTCTCGCTTGGGAGACCAACCATTTTGGTTCGTACTACATTGCGTGGAGACGGAAACGACTGCTTCAGAGACTCTGGGCTAAGCAGTATTGTTTTACGTTACATCATCCGTGCTGGGGTACGTCAGCCCTGTAAGTGTCTCCTTTCTGCTCGTAGCCGGCGTCGGACACAAGATCGCTGGACTCGGTATACCAGAGCGCTAAAACAGCAGGAGGGAGTGGGATATTTTTTTAGGTGGGTGACGGACCCTACCGACAGAGCATTATCTAGTTTGAGCAGGGTACTTACGGATATCGTCGCAAGCTGGGCCCCATAGAGCATAAAATTCAAGCACGTTGTTCGGATGCATGAGCTCTAGTAAAACGATACTAAAATACATAGGCCTT']\n",
      "['Rosalind_5958', 'TCGGGCTTCCTGTGAATAAATCCCCCTTGGCTTTGACAGTTCGGAGGTTAGCTCGAGGGGCAGAACTCATGTCCTTGTAAGAAGGTGACATCCTGCACAAAGTCCGCGTTAGGCGTAATTGATTCGTCGAGTCACGGAGAACGCTCCGTACGTAGCTTTGGTCGAATAGAGCCCTACCCCGCGCAAGTTTACATTATGATAGAACATCAGATGTATAAGAGACTGATAGGTCAGTCATGGAGCGACGGACCCACAGAGTAAACTATTATATGTCTCCGGTTACAGGTTCACCACCAGAAACGGGGTAAGAGAACTCTCGTTATGCACCTATATCCCATGCGCTTAGAAGCATTCTGGATTATGGACAGATAGGGTCCCGGAAGATATCATATGCGCTATACCTTGAATCCTTCAGCGGGAGCCTCCCCAGTTGAGCGTAGTTATGTGCCTCATGGAGTATTTACCACATGCAGACGTTGAATCTCTTGTAACCACTGTCAACCTGCATATTGATGTGGGATCTCACCATCCCCTGCATGTCGCTAAGGTTTAGTTTTCGATAACTCCCGCTGCAGAGCTGTCCGTGTGTTTCCAACGAGGGAAGGCTTCTCTCGGAGAACGCGTTAATATGTCGTTACTTCCTCGTGCCTTCTAAGGCCTTGAAAACCGGTAGCACCCGCGACTGGCGCCCCGATGCTGGCGGGGTTCCTTAAGCTCACACTGTATAATGTAATCCGTGTCCCCGGATCTGTTATAGTGGGCTATGTTGTGGCATCCATACTACACAGATGCAGTGGCTATCATGAGTGGTATTATTCATGTACTCCTCCCTAGGTAGGAGCTCCTGATCCAACGTAGTCGGTGAGTTAGAGGGCCTCCTATTCGTGTTATAATGCTTTCGCTGAGTAAGAGCTCAGGAGCCGGGACTAGTGGGATGACGCTAAGGA']\n",
      "['Rosalind_2076', 'CTGCGAGAATTGATGAATGTCGTAGGCCGTCCCCGTATTAAGAACATCCTGTCTTGGACTCACACCAACACGTCAGCCATACATATAAGACACTAACAGTGCTCGATAGCAAGGGCCAACCTTATCCGTACTTTTGGCTAAAGCCCTTGGTCTCGACATGCAGGACTACACCTTTCAACTGGACCCTCTTTAAAACGTCCAGTGCTAATGACGACCGGGCACTAATAGGCGAGGTAGAAGACGTAATTCTTGAGGTCGGGTCGGCGCGTCAGTCGTTTCTCGAGCACCGAGGATAGAACAAGTTAGTCACCAGTTATATGGGAAGGCTAGGCACCATCGGACAGCCCAAAGGCTAGTTTGACTTCGACATGATGGATTATAACCGAAGAGCATGCCAATGAGAACGGGGGTCGGCTAACTGCACTATAAAATCTTGGTCGAATCATCCTACCGATACTGTCACCTTGCCGGTCGTGAATTCGGTAACGGTCGTTGTGGGCTCACGGTCACTTGGGAGACGCAAGTAATTTCTAGCCCCTGCCGTGGAAACCTCAACATAACTTTGTTTTTCCACGTGGCAGAGGTTTTCGATTTGCCCGCGACGTTCATGCGTAATACACAGAAGCACGGCAGAACGATGCCATCAAGAGATCGTCAGCGGCCAATCAGCCGACCGACCAGAAGCGTATATCCATCCTTCTTCCACTCATCATAGTCGTCACTGGGTTGCCAAAGAGTGCGTCTAGAGACATCCCACAACTATTGTCTTGGTTTACAGAGGTTCATTACATTTATCTAGCACCGGAAAGAATTTAACCCTATGGTTCAAACAAGCGACAGCTAACCC']\n",
      "['Rosalind_7397', 'CCGAGACTGTAATAGCTAACTACTTAGGCTTCCGCTATCACATCTGCATTCGTCGAGTATGGATATGAGTATTCCCAATCCGTAATGAACGTTCATTTAGTTGGGAGTATTACATAGCCCATTTAAACGGAGAAGTCTAGGCGTCACATCTCGCAATGATCACATACGATTCTTGCCTGCATACATGTCGACTACGAGGCAACCGACTTCTCTACAACTGTACTAGATTGGGGTAGCACGAACGACAGCAGACGAATATACACTCCCCCCTTCAATGGCGGCCTCAATCTGCTTTATAAATTCAGACTTCCACCGTGCCGGGGACACCCGATAGACACCCGTGGAGGCTGTCGCAAGGCCAATCCTGGACTCACAGATGACGACCTTTGCTGACCGACTTATCATGCCGCCCCTAGGTTCATGATTACCCGCGTCGCGTTGAGGCTTATGAACGAGAGTGCTAGAACTAAATTCCTCTAAGCGTCTGCCTTGAGGCATGCGACTTCCGAATGTAGAACTCTTGCGCGACGAAATAGGCTGCCGCAGCGACAGTTTGAAGAGGTGCCAAATGGACTTGTCCATATGTGAGCTTACTAATGGATGGTCCACCTACCCACAACTGCGCGAGGATTCACAAGATCGCGTCGTGTCACCGATTCCAGCTGGGTGGCGATTAAGATGTGTTCAGTCTTCTCGTTGGTCGAGGTCTTGATGGACTTGTCGCACCTAGCCTAGACCATATAGATCTACAATCAGGTGGTATACTCGGCCCGTGGCCTTTTTCCGGTTTTGCATAAGAATTATTC']\n",
      "['Rosalind_7009', 'GGGGTCCGCAGTGGTAAACCTATTATCTGGCGTCCCGTGAGGCGCTCTGGAACTGGCAAATAACTGATTACATTTAACGTAGTAACTCGAACCGTGCAATAGTTCGCGGCCCCTATGGGGGCATCATACTACCACGCTTAGTCTTTCGGCTCTTTTGTAGTCATTAATCGCTAGACGCTTTACTCCCCCATTGGGAACCAATCTGGTCTTACTCTGTGTATATCTCCGTTTAGCTTCGACTTGGGCTGCATTTACGCAACAGAATGCTGTCCGCTGTTGCAGGAGCGTCCTGTTTTGTTTGTCGTCGTTATTGACACGGGCCTGTACCAAGGCCAACGGTCTCTCGGCTAACATTACGATCTTTTTGTGAAACGATATGGTGTGTATTCGCATTTGGGCCACCTGAAGGCCGTACAGAGTAACGCACGAGTCCATGAAACTGGCCGGACTGGTTTGCGGTATGATATCAGCCTCCCTGAGCCTCAATGATCCGGGAGGTTCTAGAATATGTACCCACCGGCCCCCACACATAAAAATTAGTTTCTACGGATAATCTGGACGCTGGGGTATCAGGCGGGGCTTATGCGGGAACCATCCCCGGCCCCGGGCGCATGCGCGTGAATCCCCATCAGTATTAGAGCAAGAGCTGAGCAACTAGGCTGACCAAAATTGCGACGCTAGCAGCACAGCGTTGGTTGCTTGACTAACTCTATCCATAACTTACTACACCTCGGGAGTCGAAATTCTCTGCGAACGGCCTGCCCCCTCTTATTGGTGGCCTGAATCTATGCCATGACCCTATAAACACCCGCAATCGAATATTCCTACTGGTGTATTTTTGCTTCACAAACCTTGCGAGCACGTGACTATCTAATCAGAAGACACCAAACAAATTCCAGCGCTGCTTATGAAGCTTATAATCGATATTTGGAACAGGGCGCAGAA']\n",
      "['Rosalind_5950', 'GCTCCCTCCGAAAGTGTCCCAAGTATCATCATTACAATATTGCCCCTCGGGACTGTTCGCAACGAGATGGAAGTGAGATGCCTGCCTCAGGTGGGCGTGCTCTTTGGGTGTTAGGATCACGCCTAATACTGTTAAGGAGGCGCTCCCAAAGTATCCTGGGCGCCGCCTCACACCACCGTTACTTGGATTACCTGAGTGCTCCGTGTCCTATGCGCATAATGCGATACCGCAGCTTTAGAGCCCCTCTTCGACTGACTAACACTCGTGTGTTCCGAATTAAGGTCTATACTTCTGATCATCCGCTAAGTTGATCGTAGGCGAGCACCAATGCAACTGGGGGACAGATAGTGATAATCCTCAGTTCAAATCACTTGCGTGGGTGCATGAAGACGGCTCGATCTTCGGGATTTAGGAAAGTTCGCCTGGGAATGGGAACGGGAAGTCTGGGAACGTATTTTCGTTAATATCCGTATGGGTTCTAGCGGCTGCTGTAGAGTACGATCGCGATGCCGTCCTTTCCACTTCGCACGAGAGAAACGTGTCACAACGCCGTTTTTGGATGGCATTGAGAGGTTTTACCGTATTTATATCTTCATATTGTCATGATTTTAAGGCAAAAGAATCTAGATCTAAGTGCACGTCTTATCGCGTCAAATTTGTCAATGAGCTTTTTATGGGGAATAACGCATTTGGGGCGGCAAGAGTCTGTAGGTACGGGCTAGAGGGCCACGCCGGGGGGGTGCCGTAGGTACGCCTGTTTTGCTAATCGATACCAGGAGTTCTTCACCCTCAAGAAAAGCTCGGAAATTCCACCTTATTGCTTGT']\n",
      "Rosalind_7009\n",
      "49.84126984126984\n"
     ]
    }
   ],
   "source": [
    "## Question 5: Computing GC Content\n",
    "file = open('/home/bardia/Downloads/rosalind_gc.txt', 'r')\n",
    "output = open('/home/bardia/Downloads/rosalind_gc_output.txt', 'w')\n",
    "lines = file.readlines()\n",
    "reads = []\n",
    "\n",
    "# Read file, organize into list with paired names and reads\n",
    "for i, line in enumerate(lines):\n",
    "    if line[0] == \">\":\n",
    "        reads.append([line[1:].rstrip(), ''])\n",
    "    else:\n",
    "        reads[-1][1] = ''.join((reads[-1][1].rstrip(), line.rstrip()))\n",
    "\n",
    "# Calculate GC% of each read\n",
    "for i, read in enumerate(reads):\n",
    "    gcContent = 0\n",
    "    print(read)\n",
    "    for base in read[1]:\n",
    "        if base in \"GC\":\n",
    "            gcContent += 1\n",
    "    reads[i].append(100*gcContent/len(read[1]))\n",
    "\n",
    "\n",
    "# Get highest GC% read\n",
    "maxGC = max(reads, key=lambda x: x[2])\n",
    "print(f'{maxGC[0]}\\n{maxGC[2]}')\n",
    "\n",
    "output.write(f'{maxGC[0]}\\n{maxGC[2]}')\n",
    "\n",
    "file.close()\n",
    "output.close()"
   ]
  },
  {
   "cell_type": "code",
   "execution_count": 46,
   "metadata": {},
   "outputs": [],
   "source": [
    "## Question 6: Counting Point Mutations\n",
    "file = open('/home/bardia/Downloads/rosalind_hamm.txt', 'r')\n",
    "output = open('/home/bardia/Downloads/rosalind_hamm_output.txt', 'w')\n",
    "lines = file.readlines()\n",
    "editDist = 0\n",
    "\n",
    "# loop over every character in first string, compare to according character in second string\n",
    "for i, char in enumerate(lines[0]):\n",
    "    if char != lines[1][i]: \n",
    "        editDist += 1 \n",
    "\n",
    "\n",
    "output.write(str(editDist))\n",
    "\n",
    "file.close()\n",
    "output.close()"
   ]
  },
  {
   "cell_type": "code",
   "execution_count": 77,
   "metadata": {},
   "outputs": [
    {
     "name": "stdout",
     "output_type": "stream",
     "text": [
      "0.7846045197740112\n"
     ]
    }
   ],
   "source": [
    "## Question 7: Mendel's First Law\n",
    "file = open('/home/bardia/Downloads/rosalind_iprb.txt', 'r')\n",
    "output = open('/home/bardia/Downloads/rosalind_iprb_output.txt', 'w')\n",
    "\n",
    "k, m, n = [int(i) for i in file.read().rstrip().split()]\n",
    "# k - homozygous dominant\n",
    "# m - heterozygous\n",
    "# n - homozygous recessive\n",
    "total = sum([k,m,n])\n",
    "\n",
    "# recessive needs two heterozygous, two homozygous, or heterozygous and homozygous\n",
    "# 1-P(dominant) = 0.75*P(2het) + P(2hom) + 0.5*P(homhet)\n",
    "# P(2hom) = n/total * n-1/total-1\n",
    "# P(2het) = m/total * m-1/total-1\n",
    "# P(homhet) = m/total * n-1/total-1 + n/total * m-1/total-1\n",
    "\n",
    "prob = 1-((n/total * (n-1)/(total-1)) + 0.25*(m/total * (m-1)/(total-1)) + 0.5*(m/total * (n)/(total-1) + n/total * (m)/(total-1)))\n",
    "\n",
    "output.write(str(prob))\n",
    "\n",
    "print(prob)\n",
    "\n",
    "file.close()\n",
    "output.close()"
   ]
  },
  {
   "cell_type": "code",
   "execution_count": 18,
   "metadata": {},
   "outputs": [],
   "source": [
    "## Question 8: Translating RNA into Protein\n",
    "file = open('/home/bardia/Downloads/rosalind_prot.txt', 'r')\n",
    "output = open('/home/bardia/Downloads/rosalind_prot_output.txt', 'w')\n",
    "\n",
    "seq = file.read().rstrip()\n",
    "protein = []\n",
    "\n",
    "codonDict = {\n",
    "    'UUU':'F','UUC':'F','UUA':'L','UUG':'L','UCU':'S','UCC':'S','UCA':'S','UCG':'S','UAU':'Y','UAC':'Y','UAA':'\\n','UAG':'\\n','UGU':'C','UGC':'C','UGA':'\\n','UGG':'W',\n",
    "    'CUU':'L','CUC':'L','CUA':'L','CUG':'L','CCU':'P','CCC':'P','CCA':'P','CCG':'P','CAU':'H','CAC':'H','CAA':'Q','CAG':'Q','CGU':'R','CGC':'R','CGA':'R','CGG':'R',\n",
    "    'AUU':'I','AUC':'I','AUA':'I','AUG':'M','ACU':'T','ACC':'T','ACA':'T','ACG':'T','AAU':'N','AAC':'N','AAA':'K','AAG':'K','AGU':'S','AGC':'S','AGA':'R','AGG':'R',\n",
    "    'GUU':'V','GUC':'V','GUA':'V','GUG':'V','GCU':'A','GCC':'A','GCA':'A','GCG':'A','GAU':'D','GAC':'D','GAA':'E','GAG':'E','GGU':'G','GGC':'G','GGA':'G','GGG':'G',\n",
    "}\n",
    "\n",
    "i = 0\n",
    "while i <= len(seq)-1:\n",
    "    aacid = codonDict[seq[i:i+3]]\n",
    "    protein.append(aacid)\n",
    "    i += 3\n",
    "\n",
    "output.write(''.join(protein))\n",
    "\n",
    "file.close()\n",
    "output.close()"
   ]
  },
  {
   "cell_type": "code",
   "execution_count": 55,
   "metadata": {},
   "outputs": [
    {
     "name": "stdout",
     "output_type": "stream",
     "text": [
      "['173', '215', '253', '265', '289', '304', '311', '338', '345', '366', '406', '432', '448', '455', '462', '499', '580', '680', '687', '728', '771', '786', '857']\n"
     ]
    }
   ],
   "source": [
    "## Question 9: Finding a Motif in DNA\n",
    "file = open('/home/bardia/Downloads/rosalind_subs.txt', 'r')\n",
    "output = open('/home/bardia/Downloads/rosalind_subs_output.txt', 'w')\n",
    "\n",
    "seq, query = file.readlines()\n",
    "seq, query = seq.rstrip(), query.rstrip()\n",
    "occurences = []\n",
    "window = len(query)\n",
    "\n",
    "for i in range(len(seq)-window):\n",
    "    ## compare window and query, return 1-indexed location of motif if true.\n",
    "    if seq[i:i+window] == str(query): occurences.append(str(i+1))\n",
    "\n",
    "print(occurences)\n",
    "output.write(' '.join(occurences))\n",
    "\n",
    "file.close()\n",
    "output.close()"
   ]
  },
  {
   "cell_type": "code",
   "execution_count": 104,
   "metadata": {},
   "outputs": [],
   "source": [
    "##Question 10: Consensus and Profile\n",
    "import math # for finding phred score\n",
    "\n",
    "file = open('/home/bardia/Downloads/rosalind_cons.txt', 'r')\n",
    "output = open('/home/bardia/Downloads/rosalind_cons_output.txt', 'w')\n",
    "\n",
    "lines = file.readlines()\n",
    "reads = []\n",
    "\n",
    "# retrieve reads from FASTA file into a list \n",
    "for line in lines:\n",
    "    if line[0] == '>': reads.append('')\n",
    "    else: reads[-1] += line.rstrip()\n",
    "\n",
    "# construct matrix\n",
    "matrix = [[0,0,0,0] for _ in range(len(reads[0]))]\n",
    "\n",
    "# map nucleotide distribution over all reads for each base in consensus\n",
    "for read in reads:\n",
    "    for i, char in enumerate(read):\n",
    "        matrix[i][['A','C','G','T'].index(char)] += 1\n",
    "\n",
    "consensus = []\n",
    "certainty = [] #optional list for phred certainty of bases \n",
    "\n",
    "# construct consensus from matrix\n",
    "for i, base in enumerate(matrix):\n",
    "    consensus.append('ACGT'[base.index(max(base))])\n",
    "\n",
    "    # add optional phred score (for practice)\n",
    "    certainty.append(-10 * math.log10(max(base)/sum(base)))\n",
    "\n",
    "output.write(f\"{''.join(consensus)}\\n{str(certainty)}\")\n",
    "\n",
    "file.close()\n",
    "output.close()"
   ]
  },
  {
   "cell_type": "code",
   "execution_count": null,
   "metadata": {},
   "outputs": [],
   "source": [
    "## Question 11: Mortal Fibonacci Rabbits\n",
    "file = open('/home/bardia/Downloads/rosalind_fibd.txt', 'r')\n",
    "output = open('/home/bardia/Downloads/rosalind_fibd_output.txt', 'w')\n",
    "\n",
    "n, m = file.read().split()\n",
    "n, m = int(n), int(m)\n",
    "\n",
    "# [Month 1: [newborns][1 month olds][etc.]][Month 2. [][][]]...\n",
    "pop = [[0 for _ in range(m)] for _ in range(n)]\n",
    "pop[0][0] = 1\n",
    "\n",
    "for i in range(1,n):\n",
    "    for month in range(len(pop[i])):\n",
    "        if month > 0: pop[i][month] = pop[i-1][month-1]\n",
    "        else: pop[i][month] = sum(pop[i-1][1:])\n",
    "        # each rabbit ages a year, newborns for the month equal sum of all rabbits older than 1 month in the previous month\n",
    "\n",
    "#print(pop)\n",
    "print(sum(pop[-1]))\n",
    "\n",
    "output.write(str(sum(pop[-1])))\n",
    "\n",
    "file.close()\n",
    "output.close()"
   ]
  },
  {
   "cell_type": "code",
   "execution_count": null,
   "metadata": {},
   "outputs": [],
   "source": [
    "## Question 12: Overlap Graphs\n",
    "file = open('/home/bardia/Downloads/rosalind_grph.txt', 'r')\n",
    "output = open('/home/bardia/Downloads/rosalind_grph_output.txt', 'w')\n",
    "\n",
    "lines = file.readlines()\n",
    "reads = []\n",
    "k = 3 # placeholder k value, required overlap for edges\n",
    "\n",
    "## Note for future me, I think this could use a lot of improvement.\n",
    "## Maybe some stronger logic, or shorter code with same clarity.\n",
    "## Or use tuples to lessen memory costs?\n",
    "\n",
    "# construct list with names, sequences of reads, and space for edges\n",
    "for line in lines: \n",
    "    if line[0] == '>': reads.append([line.rstrip()[1:],'',[]])\n",
    "    else: reads[-1][1] = reads[-1][1] + line.rstrip()\n",
    "\n",
    "# detect k overlaps between nodes, and save them into {reads}\n",
    "for i, read1 in enumerate(reads):\n",
    "    for j, read2 in enumerate(reads):\n",
    "        if read1[1][-k:] == read2[1][:k] and read1 != read2: read1[2].append(read2[0])\n",
    "\n",
    "# present edges\n",
    "for read in reads:\n",
    "    if read[2] > []:\n",
    "        for edge in read[2]: output.write(f'{read[0]} {edge}\\n')\n",
    "\n",
    "file.close()\n",
    "output.close()"
   ]
  },
  {
   "cell_type": "code",
   "execution_count": 27,
   "metadata": {},
   "outputs": [
    {
     "name": "stdout",
     "output_type": "stream",
     "text": [
      "157473.5\n"
     ]
    }
   ],
   "source": [
    "## Question 13: Calculating Expected Offspring\n",
    "file = open('/home/bardia/Downloads/rosalind_iev.txt', 'r')\n",
    "output = open('/home/bardia/Downloads/rosalind_iev_output.txt', 'w')\n",
    "\n",
    "# parents\n",
    "pars = [int(i) for i in file.read().split()]\n",
    "\n",
    "## Remember that pars[0:3] returns 0:3 excluding 3\n",
    "\n",
    "# calculate expected number of autosomal dominant-phenotype offspring\n",
    "expDom = 2*sum(pars[0:3]) + 1.5 * pars[3] + 2 * 0.5 * pars[4]\n",
    "\n",
    "output.write(str(expDom))\n",
    "print(expDom)\n",
    "\n",
    "file.close()\n",
    "output.close()"
   ]
  },
  {
   "cell_type": "code",
   "execution_count": 18,
   "metadata": {},
   "outputs": [
    {
     "name": "stdout",
     "output_type": "stream",
     "text": [
      "GCGGTGGAGGAAAATCGCACTTCCAGATGTGCCTAGCGAGGGTCTGGGTGAATTTTTACTACCAGCGGTGGCAGCATAGGGA\n"
     ]
    }
   ],
   "source": [
    "## Question 14: Finding a Shared Motif\n",
    "file = open('/home/bardia/Downloads/rosalind_lcsm (1).txt', 'r')\n",
    "output = open('/home/bardia/Downloads/rosalind_lcsm_output.txt', 'w')\n",
    "\n",
    "# function for reading FASTA files as a nested list\n",
    "# reads = [[read_name, 'read_sequence'], [...], ...]\n",
    "def readFASTA(file) -> list:\n",
    "    reads = []\n",
    "    for line in file.readlines():\n",
    "        if line[0] == '>': reads.append([line.rstrip()[1:],''])\n",
    "        else: reads[-1][1] += line.rstrip()\n",
    "    return reads\n",
    "\n",
    "\n",
    "# bad, brute force plan: generate dict with every substring of each sequence, see which key has the most values.\n",
    "\n",
    "# returns set featuring every unique substring of a string\n",
    "def kmerize(sequence: str) -> set:\n",
    "    kmers = set()\n",
    "    k = 1\n",
    "    while k < len(sequence):\n",
    "        for char in range(len(sequence)-k):\n",
    "            kmers.add(sequence[char:char + 1 + k])\n",
    "        k += 1\n",
    "    return kmers\n",
    "\n",
    "\n",
    "reads = readFASTA(file)\n",
    "\n",
    "substrings = kmerize(reads[0][1])\n",
    "\n",
    "for read in reads:\n",
    "    substrings = substrings.intersection(kmerize(read[1]))\n",
    "\n",
    "lcss = max(substrings, key=len)\n",
    "print(lcss)\n",
    "output.write(lcss)\n",
    "    \n",
    "## Very slow (30.5 s), algorithmically not efficient, should use built in solutions from Python to improve.\n",
    "\n",
    "file.close()\n",
    "output.close()\n",
    "\n",
    "\n",
    "## Working Observations:\n",
    "# shortest substring will be length of shortest sequence\n",
    "# "
   ]
  },
  {
   "cell_type": "code",
   "execution_count": 25,
   "metadata": {},
   "outputs": [
    {
     "name": "stdout",
     "output_type": "stream",
     "text": [
      "GCGGTGGAGGAAAATCGCACTTCCAGATGTGCCTAGCGAGGGTCTGGGTGAATTTTTACTACCAGCGGTGGCAGCATAGGGA\n"
     ]
    }
   ],
   "source": [
    "## Question 14b: Finding a Shared Motif - Redo\n",
    "\n",
    "# function for reading FASTA files as a nested list\n",
    "# reads = [[read_name, 'read_sequence'], [...], ...]\n",
    "def readFASTA(file) -> list:\n",
    "    reads = []\n",
    "    for line in file.readlines():\n",
    "        if line[0] == '>': reads.append('')\n",
    "        else: reads[-1] += line.rstrip()\n",
    "    return reads\n",
    "\n",
    "# returns set featuring every unique substring of a string\n",
    "def kmerize(sequence: str) -> set:\n",
    "    kmers = set()\n",
    "    k = 1\n",
    "    while k < len(sequence):\n",
    "        for char in range(len(sequence)-k):\n",
    "            kmers.add(sequence[char:char + 1 + k])\n",
    "        k += 1\n",
    "    return kmers\n",
    "\n",
    "# Access FASTA file, parse, then find the shared motif\n",
    "with open('/home/bardia/Downloads/rosalind_lcsm (1).txt', 'r') as file, open('/home/bardia/Downloads/rosalind_lcsm_output.txt', 'w') as output:\n",
    "    reads = readFASTA(file)\n",
    "\n",
    "    minSeq = min(reads, key=len) # find shortest sequence, shortest path to lcss\n",
    "    reads.remove(minSeq) # remove so we don't have to look at it again\n",
    "\n",
    "    substrings = kmerize(minSeq)\n",
    "    candidates = []\n",
    "\n",
    "    # use python __contains__() to query every substring of the shortest sequence against every other sequence.\n",
    "    for substring in substrings:\n",
    "        if all(substring in read for read in reads): candidates.append(substring)\n",
    "    \n",
    "    lcss = max(candidates, key=len)\n",
    "    print(lcss)\n",
    "    output.write(lcss)\n",
    "\n",
    "\n",
    "    ## Working Observations:\n",
    "    # I'll have to learn how to use biopython for parsing FASTA files, limits memory usage for large files.\n",
    "    # Oh, I can take an arbitrary read and only look at its substrings, the lcss is guaranteed to be contained in there, by definitition.\n",
    "\n",
    "    ## Changes: \n",
    "    # Using with statement to handle file stream\n",
    "    # Changed data structure of readFASTA to eliminate read names \n",
    "    # Limited kmer size to shortest read (doesn't do much for example data, but done for completeness)\n",
    "    # changed code to use builtin python binary search (is in) (after implementation, this reduced processing times by around 10-15x, wow)"
   ]
  },
  {
   "cell_type": "code",
   "execution_count": 35,
   "metadata": {},
   "outputs": [],
   "source": [
    "## Question 15: Independent Alleles\n",
    "from math import factorial as fact\n",
    "\n",
    "def nCr(n, r): # Combinatorial function\n",
    "    return fact(n) / (fact(r) * fact(n-r))\n",
    "\n",
    "with open('/home/bardia/Downloads/rosalind_lia.txt', 'r') as file, open('/home/bardia/Downloads/rosalind_lia_output.txt', 'w') as output:\n",
    "    k, N = [int(i) for i in file.read().split()]\n",
    "\n",
    "    ''' \n",
    "    The probability that an offspring is born Aa Bb is equal to 0.25, regardless of generation. Cumulative binomial distribution can be used to cacluate the chance at least N offspring of generation k are genotypically Aa Bb.\n",
    "    '''\n",
    "\n",
    "    pop = 2**k\n",
    "    probN = 0\n",
    "\n",
    "    for i in range(N, pop+1):\n",
    "        probN += nCr(pop, i) * (0.25**i) * (0.75**(pop-i))\n",
    "    \n",
    "    output.write(str(probN))\n",
    "    print(probN)\n"
   ]
  }
 ],
 "metadata": {
  "kernelspec": {
   "display_name": "Python 3",
   "language": "python",
   "name": "python3"
  },
  "language_info": {
   "codemirror_mode": {
    "name": "ipython",
    "version": 3
   },
   "file_extension": ".py",
   "mimetype": "text/x-python",
   "name": "python",
   "nbconvert_exporter": "python",
   "pygments_lexer": "ipython3",
   "version": "3.10.6"
  },
  "orig_nbformat": 4,
  "vscode": {
   "interpreter": {
    "hash": "916dbcbb3f70747c44a77c7bcd40155683ae19c65e1c03b4aa3499c5328201f1"
   }
  }
 },
 "nbformat": 4,
 "nbformat_minor": 2
}
